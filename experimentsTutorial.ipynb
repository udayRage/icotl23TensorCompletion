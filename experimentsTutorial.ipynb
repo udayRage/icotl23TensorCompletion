{
 "cells": [
  {
   "cell_type": "markdown",
   "id": "03d70b5e-5d64-4ab9-becb-3cc500eac4cc",
   "metadata": {},
   "source": [
    "### Step 1 : Import required libraries"
   ]
  },
  {
   "cell_type": "code",
   "execution_count": 1,
   "id": "69925270-7439-46d3-b605-080c48d6c540",
   "metadata": {},
   "outputs": [],
   "source": [
    "import os\n",
    "import traceback\n",
    "from pathlib import Path\n",
    "\n",
    "import pandas as pd\n",
    "from osgeo import gdal\n",
    "from helpers import *\n",
    "from imputation import Imputation as imp\n",
    "import numpy as np\n",
    "from experiment import Imputation"
   ]
  },
  {
   "cell_type": "markdown",
   "id": "f5f043a1-d945-40fb-b0fb-c458776d1bcb",
   "metadata": {
    "tags": []
   },
   "source": [
    "### Step 2 :  The below code is to conduct experiments on each dataset \n",
    "\n",
    "- for each file in the input folder \n",
    "      for each missing percent(from 10% to 50%)\n",
    "         create missing pixels \n",
    "         call imputation class function to predict missing pixels \n",
    "         get the results and store the statistics in a dataframe for further analysis \n",
    "         "
   ]
  },
  {
   "cell_type": "code",
   "execution_count": null,
   "id": "f42116c8-1315-457f-94fe-e14ad501f181",
   "metadata": {},
   "outputs": [],
   "source": [
    "\n",
    "\n",
    "# Create an empty DataFrame to store results\n",
    "finalDataframe = pd.DataFrame(columns=['fileName', 'missingPercent', 'algo', 'RSE', 'runTime'])\n",
    "\n",
    "# Loop through files in the specified path\n",
    "for filename in os.listdir(path):\n",
    "    if filename.endswith('.IMG'):\n",
    "        print(filename)\n",
    "        \n",
    "        # Iterate over missing percentage values (10 to 50, step 10)\n",
    "        for missingPercent in range(10, 60, 10):\n",
    "            filePath = os.path.join(path, filename)\n",
    "            \n",
    "            # Create an instance of the Imputation class\n",
    "            impute = Imputation(inputFile=filePath, outputFile=path)\n",
    "            \n",
    "            # Create missing pixels in the image\n",
    "            impute.createMissingPixels(percent=missingPercent)\n",
    "            \n",
    "            # Predict missing pixels using the specified algorithms\n",
    "            results = impute.predictMissingPixels(outputFolder=path)\n",
    "            \n",
    "            # Concatenate the results DataFrame with the new results\n",
    "            finalDataframe = pd.concat([finalDataframe, pd.DataFrame(results)], ignore_index=True)\n",
    "        \n",
    "        # print('------------------1file---------------------')\n",
    "\n",
    "# Save the final results DataFrame to a TSV file\n",
    "finalDataframe.to_csv('imputation_ChandDataset2_Results.tsv', sep='\\t')\n"
   ]
  },
  {
   "cell_type": "markdown",
   "id": "db2f4ac2-f003-487a-a018-1085d6955ded",
   "metadata": {},
   "source": [
    "### Step 4 : Creating heat map for the above obtained results "
   ]
  },
  {
   "cell_type": "code",
   "execution_count": null,
   "id": "36c0f11a-867e-426d-9fcb-e80eb48cd9a8",
   "metadata": {},
   "outputs": [],
   "source": [
    "import numpy as np\n",
    "import matplotlib.pyplot as plt\n",
    "from matplotlib.colors import Normalize\n",
    "from osgeo import gdal\n",
    "\n",
    "\n",
    "\n",
    "# function to calculate RMSE values of each pixel in the image\n",
    "def calculate_rmse(image1, image2):\n",
    "    mse = np.mean((image1 - image2) ** 2)\n",
    "    rmse = np.sqrt(mse)\n",
    "    return rmse\n",
    "\n",
    "\n",
    "# Filepath of images \n",
    "orig_image = '/Users/bunny/PycharmProjects/Imputation/data_/MI/dataset2/Area2_MI_MAP_03_N22E196N21E197SC.tif'\n",
    "predicted_image = '/Users/bunny/PycharmProjects/Imputation/data_/MI/dataset2/CMSI/Area2_MI_MAP_03_N22E196N21E197SC.tif/10CMSI.tif'\n",
    "\n",
    "\n",
    "# read images using gdal and scale factor of the file \n",
    "#(The data is read as (9,1048,1048) i.e, color bands,width, height) using the gdal library in order to visualize the image using matplotlib I have transformed the image \n",
    "predicted_image = gdal.Open(predicted_image).ReadAsArray().T\n",
    "original_image = gdal.Open(orig_image).ReadAsArray().T * 0.00002\n",
    "original_image = original_image[:403,:403,:]\n",
    "\n",
    "\n",
    "# Read it as numpy array \n",
    "original_array = np.array(original_image)\n",
    "predicted_array = np.array(predicted_image)\n",
    "\n",
    "# call the rmse function with the inputs \n",
    "rmse_array = np.sqrt(np.mean((original_array - predicted_array) ** 2, axis=-1))\n",
    "\n",
    "# Create heat map\n",
    "plt.figure(figsize=(12, 8))\n",
    "\n",
    "plt.subplot(1, 3, 1)\n",
    "plt.imshow(original_array[:, :, :3])\n",
    "plt.title('Original Image')\n",
    "plt.axis('off')\n",
    "\n",
    "plt.subplot(1, 3, 2)\n",
    "plt.imshow(predicted_array[:, :, :3])\n",
    "plt.title('Predicted Image')\n",
    "plt.axis('off')\n",
    "\n",
    "plt.subplot(1, 3, 3)\n",
    "plt.imshow(rmse_array, cmap='hot', interpolation='nearest')\n",
    "plt.colorbar(label='RMSE Value')\n",
    "plt.title('RMSE Heatmap')\n",
    "\n",
    "plt.tight_layout()\n",
    "plt.show()\n"
   ]
  }
 ],
 "metadata": {
  "kernelspec": {
   "display_name": "Python 3 (ipykernel)",
   "language": "python",
   "name": "python3"
  },
  "language_info": {
   "codemirror_mode": {
    "name": "ipython",
    "version": 3
   },
   "file_extension": ".py",
   "mimetype": "text/x-python",
   "name": "python",
   "nbconvert_exporter": "python",
   "pygments_lexer": "ipython3",
   "version": "3.10.4"
  }
 },
 "nbformat": 4,
 "nbformat_minor": 5
}
